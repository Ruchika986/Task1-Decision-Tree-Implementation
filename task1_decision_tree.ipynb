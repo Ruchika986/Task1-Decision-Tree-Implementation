{
 "cells": [
  {
   "cell_type": "markdown",
   "id": "f96e2e19",
   "metadata": {},
   "source": [
    "# Task 1: Decision Tree Classifier – CodTech Internship\n",
    "In this notebook, we implement a **Decision Tree Classifier** on the Iris dataset using `scikit-learn`. We train the model, evaluate its accuracy, and visualize the decision tree structure."
   ]
  },
  {
   "cell_type": "code",
   "execution_count": null,
   "id": "9469b59d",
   "metadata": {},
   "outputs": [],
   "source": [
    "# Imports\n",
    "import pandas as pd\n",
    "import matplotlib.pyplot as plt\n",
    "from sklearn.datasets import load_iris\n",
    "from sklearn.model_selection import train_test_split\n",
    "from sklearn.tree import DecisionTreeClassifier, plot_tree\n",
    "from sklearn.metrics import accuracy_score, classification_report\n"
   ]
  },
  {
   "cell_type": "code",
   "execution_count": null,
   "id": "a32046cc",
   "metadata": {},
   "outputs": [],
   "source": [
    "# Load Iris dataset\n",
    "iris = load_iris()\n",
    "X = iris.data\n",
    "y = iris.target\n",
    "feature_names = iris.feature_names\n",
    "target_names = iris.target_names\n",
    "print('Features:', feature_names)\n",
    "print('Target Classes:', target_names)"
   ]
  },
  {
   "cell_type": "code",
   "execution_count": null,
   "id": "493081e9",
   "metadata": {},
   "outputs": [],
   "source": [
    "# Split dataset into training and testing sets\n",
    "X_train, X_test, y_train, y_test = train_test_split(\n",
    "    X, y, test_size=0.2, random_state=42, stratify=y\n",
    ")\n",
    "print('Train size:', X_train.shape, '| Test size:', X_test.shape)"
   ]
  },
  {
   "cell_type": "code",
   "execution_count": null,
   "id": "123c4ae2",
   "metadata": {},
   "outputs": [],
   "source": [
    "# Train Decision Tree Classifier\n",
    "model = DecisionTreeClassifier(random_state=42)\n",
    "model.fit(X_train, y_train)"
   ]
  },
  {
   "cell_type": "code",
   "execution_count": null,
   "id": "b9cb87fb",
   "metadata": {},
   "outputs": [],
   "source": [
    "# Evaluate model\n",
    "y_pred = model.predict(X_test)\n",
    "accuracy = accuracy_score(y_test, y_pred)\n",
    "print(f'Accuracy: {accuracy:.4f}')\n",
    "print('\\nClassification Report:\\n', classification_report(y_test, y_pred, target_names=target_names))"
   ]
  },
  {
   "cell_type": "code",
   "execution_count": null,
   "id": "ab46764f",
   "metadata": {},
   "outputs": [],
   "source": [
    "# Visualize Decision Tree\n",
    "plt.figure(figsize=(15, 10))\n",
    "plot_tree(model, filled=True, feature_names=feature_names, class_names=target_names)\n",
    "plt.title('Decision Tree Visualization')\n",
    "plt.show()"
   ]
  }
 ],
 "metadata": {},
 "nbformat": 4,
 "nbformat_minor": 5
}
